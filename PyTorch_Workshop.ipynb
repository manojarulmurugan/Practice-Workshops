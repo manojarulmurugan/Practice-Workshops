{
  "nbformat": 4,
  "nbformat_minor": 0,
  "metadata": {
    "colab": {
      "provenance": []
    },
    "kernelspec": {
      "name": "python3",
      "display_name": "Python 3"
    },
    "language_info": {
      "name": "python"
    }
  },
  "cells": [
    {
      "cell_type": "code",
      "execution_count": null,
      "metadata": {
        "id": "PENPwm6QY-bH"
      },
      "outputs": [],
      "source": [
        "import pandas as pd\n",
        "import numpy as np\n",
        "import torch\n",
        "import matplotlib.pyplot as plt\n",
        "import seaborn as sns"
      ]
    },
    {
      "cell_type": "code",
      "source": [
        "print(f\"Is Cuda built? {torch.backends.cuda.is_built()}\")"
      ],
      "metadata": {
        "colab": {
          "base_uri": "https://localhost:8080/"
        },
        "id": "RuUbYNtMaSyP",
        "outputId": "190be19b-27e2-4969-e85f-fcbe006237f2"
      },
      "execution_count": null,
      "outputs": [
        {
          "output_type": "stream",
          "name": "stdout",
          "text": [
            "Is Cuda built? True\n"
          ]
        }
      ]
    },
    {
      "cell_type": "code",
      "source": [
        "print(torch.cuda.is_available())"
      ],
      "metadata": {
        "colab": {
          "base_uri": "https://localhost:8080/"
        },
        "id": "xcNckc40a8ku",
        "outputId": "e9a2ae97-a519-4da3-93fc-ca3f072bfdfd"
      },
      "execution_count": null,
      "outputs": [
        {
          "output_type": "stream",
          "name": "stdout",
          "text": [
            "False\n"
          ]
        }
      ]
    },
    {
      "cell_type": "code",
      "source": [
        "device = \"cuda\" if torch.cuda.is_available() else \"cpu\""
      ],
      "metadata": {
        "id": "vL6GgEBFbhGl"
      },
      "execution_count": null,
      "outputs": []
    },
    {
      "cell_type": "markdown",
      "source": [
        "0-Dimension"
      ],
      "metadata": {
        "id": "483NARznc2hH"
      }
    },
    {
      "cell_type": "code",
      "source": [
        "scalar = torch.tensor(7)\n",
        "scalar"
      ],
      "metadata": {
        "colab": {
          "base_uri": "https://localhost:8080/"
        },
        "id": "xjIApNkUbpTQ",
        "outputId": "a5d90c19-5b1f-44bc-cc01-553324c9512e"
      },
      "execution_count": null,
      "outputs": [
        {
          "output_type": "execute_result",
          "data": {
            "text/plain": [
              "tensor(7)"
            ]
          },
          "metadata": {},
          "execution_count": 12
        }
      ]
    },
    {
      "cell_type": "code",
      "source": [
        "scalar.ndim"
      ],
      "metadata": {
        "colab": {
          "base_uri": "https://localhost:8080/"
        },
        "id": "FgZa7dykbyDR",
        "outputId": "9e91a486-934f-4b64-8b5b-704ab4656185"
      },
      "execution_count": null,
      "outputs": [
        {
          "output_type": "execute_result",
          "data": {
            "text/plain": [
              "0"
            ]
          },
          "metadata": {},
          "execution_count": 13
        }
      ]
    },
    {
      "cell_type": "code",
      "source": [
        "scalar.item()"
      ],
      "metadata": {
        "colab": {
          "base_uri": "https://localhost:8080/"
        },
        "id": "qPltfmNub56s",
        "outputId": "4479bdec-4a01-4e10-f289-26c0336c6519"
      },
      "execution_count": null,
      "outputs": [
        {
          "output_type": "execute_result",
          "data": {
            "text/plain": [
              "7"
            ]
          },
          "metadata": {},
          "execution_count": 14
        }
      ]
    },
    {
      "cell_type": "markdown",
      "source": [
        "1-Dimension"
      ],
      "metadata": {
        "id": "aI2_DYJAcvOl"
      }
    },
    {
      "cell_type": "code",
      "source": [
        "vector = torch.tensor([7,7])\n",
        "vector"
      ],
      "metadata": {
        "colab": {
          "base_uri": "https://localhost:8080/"
        },
        "id": "ZWWfHb9Mb9e8",
        "outputId": "8ee5c0bb-7d1e-458d-8597-757eafc766fb"
      },
      "execution_count": null,
      "outputs": [
        {
          "output_type": "execute_result",
          "data": {
            "text/plain": [
              "tensor([7, 7])"
            ]
          },
          "metadata": {},
          "execution_count": 15
        }
      ]
    },
    {
      "cell_type": "code",
      "source": [
        "vector.ndim"
      ],
      "metadata": {
        "colab": {
          "base_uri": "https://localhost:8080/"
        },
        "id": "CHjWitMBctTs",
        "outputId": "fe82c6b7-73a6-4f46-8a96-5feaf4dc1176"
      },
      "execution_count": null,
      "outputs": [
        {
          "output_type": "execute_result",
          "data": {
            "text/plain": [
              "1"
            ]
          },
          "metadata": {},
          "execution_count": 17
        }
      ]
    },
    {
      "cell_type": "code",
      "source": [
        "vector.shape"
      ],
      "metadata": {
        "colab": {
          "base_uri": "https://localhost:8080/"
        },
        "id": "wp2jpWPmc5RQ",
        "outputId": "4692e875-bc40-45b0-ee84-51387845da88"
      },
      "execution_count": null,
      "outputs": [
        {
          "output_type": "execute_result",
          "data": {
            "text/plain": [
              "torch.Size([2])"
            ]
          },
          "metadata": {},
          "execution_count": 18
        }
      ]
    },
    {
      "cell_type": "markdown",
      "source": [
        "2-Dimension:"
      ],
      "metadata": {
        "id": "w-z7oP4XdJ5M"
      }
    },
    {
      "cell_type": "code",
      "source": [
        "matrix = torch.tensor([[7,8],\n",
        "                       [9,10]])\n",
        "matrix"
      ],
      "metadata": {
        "colab": {
          "base_uri": "https://localhost:8080/"
        },
        "id": "V0UePuMzc99V",
        "outputId": "5b4ebbf0-b714-4207-b65e-0015d330fe9d"
      },
      "execution_count": null,
      "outputs": [
        {
          "output_type": "execute_result",
          "data": {
            "text/plain": [
              "tensor([[ 7,  8],\n",
              "        [ 9, 10]])"
            ]
          },
          "metadata": {},
          "execution_count": 19
        }
      ]
    },
    {
      "cell_type": "code",
      "source": [
        "matrix.ndim"
      ],
      "metadata": {
        "colab": {
          "base_uri": "https://localhost:8080/"
        },
        "id": "H4W77zkQdJUE",
        "outputId": "eb84cb2f-695c-4af8-dad4-da088ed90937"
      },
      "execution_count": null,
      "outputs": [
        {
          "output_type": "execute_result",
          "data": {
            "text/plain": [
              "2"
            ]
          },
          "metadata": {},
          "execution_count": 20
        }
      ]
    },
    {
      "cell_type": "code",
      "source": [
        "matrix.shape"
      ],
      "metadata": {
        "colab": {
          "base_uri": "https://localhost:8080/"
        },
        "id": "uVpnf9uadREB",
        "outputId": "dadfbc9d-885d-4616-c8fd-a6fd107b156a"
      },
      "execution_count": null,
      "outputs": [
        {
          "output_type": "execute_result",
          "data": {
            "text/plain": [
              "torch.Size([2, 2])"
            ]
          },
          "metadata": {},
          "execution_count": 21
        }
      ]
    },
    {
      "cell_type": "code",
      "source": [
        "matrix[1]"
      ],
      "metadata": {
        "colab": {
          "base_uri": "https://localhost:8080/"
        },
        "id": "wNJ22a97dVRS",
        "outputId": "52f43736-3614-4d08-cf10-f9edc4139d31"
      },
      "execution_count": null,
      "outputs": [
        {
          "output_type": "execute_result",
          "data": {
            "text/plain": [
              "tensor([ 9, 10])"
            ]
          },
          "metadata": {},
          "execution_count": 22
        }
      ]
    },
    {
      "cell_type": "markdown",
      "source": [
        "3-Dimension:"
      ],
      "metadata": {
        "id": "sgTfnAnXdj8t"
      }
    },
    {
      "cell_type": "code",
      "source": [
        "tensor = torch.tensor([[[1,2,3],\n",
        "                        [3,6,9],\n",
        "                        [2,4,5]]])\n",
        "tensor"
      ],
      "metadata": {
        "colab": {
          "base_uri": "https://localhost:8080/"
        },
        "id": "mSci05jFdZ4r",
        "outputId": "b74ae5a9-9446-4bfa-f75a-49a134e99981"
      },
      "execution_count": null,
      "outputs": [
        {
          "output_type": "execute_result",
          "data": {
            "text/plain": [
              "tensor([[[1, 2, 3],\n",
              "         [3, 6, 9],\n",
              "         [2, 4, 5]]])"
            ]
          },
          "metadata": {},
          "execution_count": 23
        }
      ]
    },
    {
      "cell_type": "code",
      "source": [
        "tensor.ndim"
      ],
      "metadata": {
        "colab": {
          "base_uri": "https://localhost:8080/"
        },
        "id": "iCr0-0RZdmwp",
        "outputId": "27217bd8-cb8d-4768-db67-7066b0e3f461"
      },
      "execution_count": null,
      "outputs": [
        {
          "output_type": "execute_result",
          "data": {
            "text/plain": [
              "3"
            ]
          },
          "metadata": {},
          "execution_count": 24
        }
      ]
    },
    {
      "cell_type": "code",
      "source": [
        "tensor.shape"
      ],
      "metadata": {
        "colab": {
          "base_uri": "https://localhost:8080/"
        },
        "id": "MMzJPjkedoDo",
        "outputId": "9cd2c2a8-f5e3-46de-a723-7bd5047e09b9"
      },
      "execution_count": null,
      "outputs": [
        {
          "output_type": "execute_result",
          "data": {
            "text/plain": [
              "torch.Size([1, 3, 3])"
            ]
          },
          "metadata": {},
          "execution_count": 25
        }
      ]
    },
    {
      "cell_type": "markdown",
      "source": [
        "Random Tensor:"
      ],
      "metadata": {
        "id": "si3GngBQeDjo"
      }
    },
    {
      "cell_type": "code",
      "source": [
        "random_tensor = torch.rand(3,4)\n",
        "random_tensor"
      ],
      "metadata": {
        "colab": {
          "base_uri": "https://localhost:8080/"
        },
        "id": "Q_OqP1igeFTw",
        "outputId": "de4d3daf-0932-4775-df48-d923d8e04993"
      },
      "execution_count": null,
      "outputs": [
        {
          "output_type": "execute_result",
          "data": {
            "text/plain": [
              "tensor([[0.9246, 0.5228, 0.8232, 0.5645],\n",
              "        [0.9002, 0.3070, 0.1275, 0.8372],\n",
              "        [0.8601, 0.6087, 0.4485, 0.8722]])"
            ]
          },
          "metadata": {},
          "execution_count": 26
        }
      ]
    },
    {
      "cell_type": "code",
      "source": [
        "random_image_size_tensor = torch.rand(size=(224,224,3))\n",
        "random_image_size_tensor.shape, random_image_size_tensor.ndim"
      ],
      "metadata": {
        "colab": {
          "base_uri": "https://localhost:8080/"
        },
        "id": "hlyi-d8eeXRd",
        "outputId": "a870dffa-075f-42f7-ead5-1c5f34c04ca8"
      },
      "execution_count": null,
      "outputs": [
        {
          "output_type": "execute_result",
          "data": {
            "text/plain": [
              "(torch.Size([224, 224, 3]), 3)"
            ]
          },
          "metadata": {},
          "execution_count": 27
        }
      ]
    },
    {
      "cell_type": "code",
      "source": [
        "random_image_size_tensor"
      ],
      "metadata": {
        "colab": {
          "base_uri": "https://localhost:8080/"
        },
        "id": "1YfPpJU3eeVL",
        "outputId": "1dad49e1-82df-4f3a-f3e1-487234ca926f"
      },
      "execution_count": null,
      "outputs": [
        {
          "output_type": "execute_result",
          "data": {
            "text/plain": [
              "tensor([[[0.1110, 0.0789, 0.7443],\n",
              "         [0.9951, 0.2593, 0.5700],\n",
              "         [0.9660, 0.5855, 0.1806],\n",
              "         ...,\n",
              "         [0.8580, 0.6938, 0.1894],\n",
              "         [0.6344, 0.6109, 0.3714],\n",
              "         [0.8050, 0.6836, 0.4588]],\n",
              "\n",
              "        [[0.7058, 0.3185, 0.3884],\n",
              "         [0.0106, 0.1272, 0.4817],\n",
              "         [0.2048, 0.8484, 0.0384],\n",
              "         ...,\n",
              "         [0.8909, 0.4412, 0.9247],\n",
              "         [0.4615, 0.2935, 0.4566],\n",
              "         [0.0651, 0.1667, 0.5851]],\n",
              "\n",
              "        [[0.6220, 0.3387, 0.6498],\n",
              "         [0.8990, 0.0022, 0.7925],\n",
              "         [0.6426, 0.3611, 0.1344],\n",
              "         ...,\n",
              "         [0.0776, 0.1036, 0.0425],\n",
              "         [0.4534, 0.5484, 0.0061],\n",
              "         [0.8149, 0.6298, 0.8125]],\n",
              "\n",
              "        ...,\n",
              "\n",
              "        [[0.1185, 0.5485, 0.9891],\n",
              "         [0.4859, 0.5057, 0.6888],\n",
              "         [0.4535, 0.0304, 0.8571],\n",
              "         ...,\n",
              "         [0.8256, 0.3434, 0.6319],\n",
              "         [0.1914, 0.2393, 0.5575],\n",
              "         [0.1366, 0.8233, 0.4764]],\n",
              "\n",
              "        [[0.9533, 0.4270, 0.0276],\n",
              "         [0.2474, 0.5036, 0.0451],\n",
              "         [0.6388, 0.8099, 0.2558],\n",
              "         ...,\n",
              "         [0.9885, 0.1997, 0.5095],\n",
              "         [0.6988, 0.3201, 0.7904],\n",
              "         [0.7273, 0.8090, 0.2640]],\n",
              "\n",
              "        [[0.6006, 0.2158, 0.1883],\n",
              "         [0.0667, 0.0259, 0.4627],\n",
              "         [0.1445, 0.6464, 0.3839],\n",
              "         ...,\n",
              "         [0.8685, 0.6153, 0.1264],\n",
              "         [0.1135, 0.4160, 0.8090],\n",
              "         [0.4876, 0.1893, 0.7098]]])"
            ]
          },
          "metadata": {},
          "execution_count": 28
        }
      ]
    },
    {
      "cell_type": "code",
      "source": [
        "zeros = torch.zeros(size=(3,4))\n",
        "zeros"
      ],
      "metadata": {
        "colab": {
          "base_uri": "https://localhost:8080/"
        },
        "id": "H7qZgcRhelXm",
        "outputId": "4af9ce9f-068a-4dad-b29b-1dba08fd3294"
      },
      "execution_count": null,
      "outputs": [
        {
          "output_type": "execute_result",
          "data": {
            "text/plain": [
              "tensor([[0., 0., 0., 0.],\n",
              "        [0., 0., 0., 0.],\n",
              "        [0., 0., 0., 0.]])"
            ]
          },
          "metadata": {},
          "execution_count": 29
        }
      ]
    },
    {
      "cell_type": "code",
      "source": [
        "ones = torch.ones(size=(3,4))\n",
        "ones"
      ],
      "metadata": {
        "colab": {
          "base_uri": "https://localhost:8080/"
        },
        "id": "FPYynKZuerFQ",
        "outputId": "c7e4ec9a-a9bd-4dee-a1af-3046cecb7774"
      },
      "execution_count": null,
      "outputs": [
        {
          "output_type": "execute_result",
          "data": {
            "text/plain": [
              "tensor([[1., 1., 1., 1.],\n",
              "        [1., 1., 1., 1.],\n",
              "        [1., 1., 1., 1.]])"
            ]
          },
          "metadata": {},
          "execution_count": 30
        }
      ]
    },
    {
      "cell_type": "code",
      "source": [
        "#default data type:\n",
        "ones.dtype"
      ],
      "metadata": {
        "colab": {
          "base_uri": "https://localhost:8080/"
        },
        "id": "K8Z61D3mexC9",
        "outputId": "d35a2f50-0ed1-40ee-dfb1-b34cbe9b8976"
      },
      "execution_count": null,
      "outputs": [
        {
          "output_type": "execute_result",
          "data": {
            "text/plain": [
              "torch.float32"
            ]
          },
          "metadata": {},
          "execution_count": 31
        }
      ]
    },
    {
      "cell_type": "markdown",
      "source": [
        "Always check the dtype before using pre-trained models"
      ],
      "metadata": {
        "id": "U68YV0Ige62l"
      }
    },
    {
      "cell_type": "code",
      "source": [
        "float_32_tensor = torch.tensor([3.0,6.0,9.0],\n",
        "                               dtype=None,\n",
        "                               device=None, #What device your tensor on?\n",
        "                               requires_grad=False) # Whetjer or not to track gradients with this tensors operations\n",
        "float_32_tensor"
      ],
      "metadata": {
        "colab": {
          "base_uri": "https://localhost:8080/"
        },
        "id": "PBekxRFSfAaC",
        "outputId": "3c15d115-5968-4b1b-bf79-2ee391e7b465"
      },
      "execution_count": null,
      "outputs": [
        {
          "output_type": "execute_result",
          "data": {
            "text/plain": [
              "tensor([3., 6., 9.])"
            ]
          },
          "metadata": {},
          "execution_count": 32
        }
      ]
    },
    {
      "cell_type": "code",
      "source": [
        "float_32_tensor.dtype"
      ],
      "metadata": {
        "colab": {
          "base_uri": "https://localhost:8080/"
        },
        "id": "Bx39ZfJZfbD6",
        "outputId": "8d607656-3106-41e5-f2e2-7555d2f568fd"
      },
      "execution_count": null,
      "outputs": [
        {
          "output_type": "execute_result",
          "data": {
            "text/plain": [
              "torch.float32"
            ]
          },
          "metadata": {},
          "execution_count": 33
        }
      ]
    },
    {
      "cell_type": "code",
      "source": [
        "float_32_tensor.type(torch.float16) # converting to float16"
      ],
      "metadata": {
        "colab": {
          "base_uri": "https://localhost:8080/"
        },
        "id": "0_Fh-PgnffNx",
        "outputId": "cde6bed6-6609-44e0-9f0a-ff8fe5881d96"
      },
      "execution_count": null,
      "outputs": [
        {
          "output_type": "execute_result",
          "data": {
            "text/plain": [
              "tensor([3., 6., 9.], dtype=torch.float16)"
            ]
          },
          "metadata": {},
          "execution_count": 35
        }
      ]
    },
    {
      "cell_type": "markdown",
      "source": [
        "Usual Errors:\n",
        "\n",
        "1) Data type\n",
        "2) Shape\n",
        "3) Device"
      ],
      "metadata": {
        "id": "ZMbJwN_3fnJV"
      }
    },
    {
      "cell_type": "code",
      "source": [
        "tensor"
      ],
      "metadata": {
        "colab": {
          "base_uri": "https://localhost:8080/"
        },
        "id": "-KzALNY9gGtc",
        "outputId": "75aecf79-a802-4301-fb67-bc15a91233f9"
      },
      "execution_count": null,
      "outputs": [
        {
          "output_type": "execute_result",
          "data": {
            "text/plain": [
              "tensor([[[1, 2, 3],\n",
              "         [3, 6, 9],\n",
              "         [2, 4, 5]]])"
            ]
          },
          "metadata": {},
          "execution_count": 37
        }
      ]
    },
    {
      "cell_type": "markdown",
      "source": [
        "Addition:"
      ],
      "metadata": {
        "id": "Ou-GTIYGgRcG"
      }
    },
    {
      "cell_type": "code",
      "source": [
        "tensor + 10"
      ],
      "metadata": {
        "colab": {
          "base_uri": "https://localhost:8080/"
        },
        "id": "u4rpAQjufoh_",
        "outputId": "70256830-0dc3-41d6-e6ff-ceaaab16bdcd"
      },
      "execution_count": null,
      "outputs": [
        {
          "output_type": "execute_result",
          "data": {
            "text/plain": [
              "tensor([[[11, 12, 13],\n",
              "         [13, 16, 19],\n",
              "         [12, 14, 15]]])"
            ]
          },
          "metadata": {},
          "execution_count": 38
        }
      ]
    },
    {
      "cell_type": "markdown",
      "source": [
        "Multiplication:"
      ],
      "metadata": {
        "id": "AyYXozCTgPuR"
      }
    },
    {
      "cell_type": "code",
      "source": [
        "torch.matmul(tensor,tensor)"
      ],
      "metadata": {
        "colab": {
          "base_uri": "https://localhost:8080/"
        },
        "id": "4HnuhXpNgCPa",
        "outputId": "42a652b6-b4a3-4b7d-ee9f-28b0a19024e8"
      },
      "execution_count": null,
      "outputs": [
        {
          "output_type": "execute_result",
          "data": {
            "text/plain": [
              "tensor([[[ 13,  26,  36],\n",
              "         [ 39,  78, 108],\n",
              "         [ 24,  48,  67]]])"
            ]
          },
          "metadata": {},
          "execution_count": 39
        }
      ]
    },
    {
      "cell_type": "code",
      "source": [
        "tensor @ tensor"
      ],
      "metadata": {
        "colab": {
          "base_uri": "https://localhost:8080/"
        },
        "id": "1YsGRkfLgM0Y",
        "outputId": "fa7204cf-baf6-4f72-f6a0-8da19ed422d7"
      },
      "execution_count": null,
      "outputs": [
        {
          "output_type": "execute_result",
          "data": {
            "text/plain": [
              "tensor([[[ 13,  26,  36],\n",
              "         [ 39,  78, 108],\n",
              "         [ 24,  48,  67]]])"
            ]
          },
          "metadata": {},
          "execution_count": 40
        }
      ]
    },
    {
      "cell_type": "markdown",
      "source": [
        "Transpose:"
      ],
      "metadata": {
        "id": "UAB-dxrIgS5e"
      }
    },
    {
      "cell_type": "code",
      "source": [
        "tensor.T"
      ],
      "metadata": {
        "colab": {
          "base_uri": "https://localhost:8080/"
        },
        "id": "_L034460gUUi",
        "outputId": "5fcc6aac-a74a-46b4-f539-eae536776f37"
      },
      "execution_count": null,
      "outputs": [
        {
          "output_type": "stream",
          "name": "stderr",
          "text": [
            "<ipython-input-41-658225b2fec8>:1: UserWarning: The use of `x.T` on tensors of dimension other than 2 to reverse their shape is deprecated and it will throw an error in a future release. Consider `x.mT` to transpose batches of matrices or `x.permute(*torch.arange(x.ndim - 1, -1, -1))` to reverse the dimensions of a tensor. (Triggered internally at ../aten/src/ATen/native/TensorShape.cpp:3697.)\n",
            "  tensor.T\n"
          ]
        },
        {
          "output_type": "execute_result",
          "data": {
            "text/plain": [
              "tensor([[[1],\n",
              "         [3],\n",
              "         [2]],\n",
              "\n",
              "        [[2],\n",
              "         [6],\n",
              "         [4]],\n",
              "\n",
              "        [[3],\n",
              "         [9],\n",
              "         [5]]])"
            ]
          },
          "metadata": {},
          "execution_count": 41
        }
      ]
    },
    {
      "cell_type": "markdown",
      "source": [
        "Creating our first Model:\n",
        "\n",
        "Workflow:\n",
        "\n",
        "1) Data (Load and clean data) 2) Build Model\n",
        "3) fit model to data (training)\n",
        "4) Evaluate model\n",
        "5)Save and reload model:"
      ],
      "metadata": {
        "id": "36Di2DQmgqKy"
      }
    },
    {
      "cell_type": "code",
      "source": [
        "import torch\n",
        "import torch.nn as nn\n",
        "from pathlib import Path\n",
        "\n",
        "torch.__version__"
      ],
      "metadata": {
        "colab": {
          "base_uri": "https://localhost:8080/",
          "height": 35
        },
        "id": "x9BTi7uagg86",
        "outputId": "9ae1ddcf-dc2a-45a1-97d9-ea4e5489a186"
      },
      "execution_count": null,
      "outputs": [
        {
          "output_type": "execute_result",
          "data": {
            "text/plain": [
              "'2.4.1+cu121'"
            ],
            "application/vnd.google.colaboratory.intrinsic+json": {
              "type": "string"
            }
          },
          "metadata": {},
          "execution_count": 43
        }
      ]
    },
    {
      "cell_type": "markdown",
      "source": [
        "Simple Linear Regression:"
      ],
      "metadata": {
        "id": "BQG5v2F-hVq2"
      }
    },
    {
      "cell_type": "code",
      "source": [
        "weight = 0.7\n",
        "bias = 0.3\n",
        "\n",
        "start = 0\n",
        "end = 1\n",
        "step = 0.02\n",
        "\n",
        "X = torch.arange(start,end,step).unsqueeze(dim=1)\n",
        "y = weight * x + bias\n",
        "\n",
        "X[:10],y[:10]"
      ],
      "metadata": {
        "colab": {
          "base_uri": "https://localhost:8080/"
        },
        "id": "4B5eJydUhU6G",
        "outputId": "48cfbabf-4796-43a9-a27c-34c4833ff207"
      },
      "execution_count": null,
      "outputs": [
        {
          "output_type": "execute_result",
          "data": {
            "text/plain": [
              "(tensor([[0.0000],\n",
              "         [0.0200],\n",
              "         [0.0400],\n",
              "         [0.0600],\n",
              "         [0.0800],\n",
              "         [0.1000],\n",
              "         [0.1200],\n",
              "         [0.1400],\n",
              "         [0.1600],\n",
              "         [0.1800]]),\n",
              " tensor([[0.3000],\n",
              "         [0.3140],\n",
              "         [0.3280],\n",
              "         [0.3420],\n",
              "         [0.3560],\n",
              "         [0.3700],\n",
              "         [0.3840],\n",
              "         [0.3980],\n",
              "         [0.4120],\n",
              "         [0.4260]]))"
            ]
          },
          "metadata": {},
          "execution_count": 45
        }
      ]
    },
    {
      "cell_type": "code",
      "source": [
        "len(X), len(y)"
      ],
      "metadata": {
        "colab": {
          "base_uri": "https://localhost:8080/"
        },
        "id": "B8z_8YEehtbb",
        "outputId": "6d66a52c-4c8a-417f-a7d3-f471125d5000"
      },
      "execution_count": null,
      "outputs": [
        {
          "output_type": "execute_result",
          "data": {
            "text/plain": [
              "(50, 50)"
            ]
          },
          "metadata": {},
          "execution_count": 46
        }
      ]
    },
    {
      "cell_type": "code",
      "source": [
        "train_split = int(0.8 * len(X))\n",
        "X_train, X_test = X[:train_split], X[train_split:]\n",
        "y_train, y_test = y[:train_split], y[train_split:]\n",
        "\n",
        "len(X_train), len(y_train), len(X_test), len(y_test)"
      ],
      "metadata": {
        "colab": {
          "base_uri": "https://localhost:8080/"
        },
        "id": "HFpUAP4Khxwe",
        "outputId": "0cb580fc-4874-4add-d563-849a6c4f330e"
      },
      "execution_count": null,
      "outputs": [
        {
          "output_type": "execute_result",
          "data": {
            "text/plain": [
              "(40, 40, 10, 10)"
            ]
          },
          "metadata": {},
          "execution_count": 47
        }
      ]
    },
    {
      "cell_type": "code",
      "source": [
        "!pip install matplotlib\n",
        "import matplotlib.pyplot as plot # Import the matplotlib library and assign it to the alias 'plot'"
      ],
      "metadata": {
        "colab": {
          "base_uri": "https://localhost:8080/"
        },
        "id": "zV98dR7cirC5",
        "outputId": "ef086767-8e8a-4289-b340-659d3db2f9c0"
      },
      "execution_count": null,
      "outputs": [
        {
          "output_type": "stream",
          "name": "stdout",
          "text": [
            "Requirement already satisfied: matplotlib in /usr/local/lib/python3.10/dist-packages (3.7.1)\n",
            "Requirement already satisfied: contourpy>=1.0.1 in /usr/local/lib/python3.10/dist-packages (from matplotlib) (1.3.0)\n",
            "Requirement already satisfied: cycler>=0.10 in /usr/local/lib/python3.10/dist-packages (from matplotlib) (0.12.1)\n",
            "Requirement already satisfied: fonttools>=4.22.0 in /usr/local/lib/python3.10/dist-packages (from matplotlib) (4.54.1)\n",
            "Requirement already satisfied: kiwisolver>=1.0.1 in /usr/local/lib/python3.10/dist-packages (from matplotlib) (1.4.7)\n",
            "Requirement already satisfied: numpy>=1.20 in /usr/local/lib/python3.10/dist-packages (from matplotlib) (1.26.4)\n",
            "Requirement already satisfied: packaging>=20.0 in /usr/local/lib/python3.10/dist-packages (from matplotlib) (24.1)\n",
            "Requirement already satisfied: pillow>=6.2.0 in /usr/local/lib/python3.10/dist-packages (from matplotlib) (10.4.0)\n",
            "Requirement already satisfied: pyparsing>=2.3.1 in /usr/local/lib/python3.10/dist-packages (from matplotlib) (3.1.4)\n",
            "Requirement already satisfied: python-dateutil>=2.7 in /usr/local/lib/python3.10/dist-packages (from matplotlib) (2.8.2)\n",
            "Requirement already satisfied: six>=1.5 in /usr/local/lib/python3.10/dist-packages (from python-dateutil>=2.7->matplotlib) (1.16.0)\n"
          ]
        }
      ]
    },
    {
      "cell_type": "code",
      "source": [
        "def plot_predictions(train_data=X_train,\n",
        "                     train_labels=y_train,\n",
        "                     test_data=X_test,\n",
        "                     test_labels=y_test,\n",
        "                     predictions=None):\n",
        "  plot.figure(figsize=(10,7))\n",
        "\n",
        "  plot.scatter(train_data,train_labels,c=\"b\",s=4,label=\"Training Data\")\n",
        "  plot.scatter(test_data,test_labels,c=\"g\",s=4,label=\"Test Data\")\n",
        "\n",
        "  if predictions is not None:\n",
        "    plot.scatter(test_data,predictions,c=\"r\",s=4,label=\"Predictions\")\n",
        "  plot.legend(prop={\"size\":14})"
      ],
      "metadata": {
        "id": "3p3GAJcViJx8"
      },
      "execution_count": null,
      "outputs": []
    },
    {
      "cell_type": "code",
      "source": [
        "plot_predictions(X_train,y_train, X_test, y_test)"
      ],
      "metadata": {
        "colab": {
          "base_uri": "https://localhost:8080/",
          "height": 599
        },
        "id": "xggI1RzKiWy3",
        "outputId": "cec71e32-fe73-42a2-8dc2-39e1df5ac7b7"
      },
      "execution_count": null,
      "outputs": [
        {
          "output_type": "display_data",
          "data": {
            "text/plain": [
              "<Figure size 1000x700 with 1 Axes>"
            ],
            "image/png": "[encoded data removed]"
          },
          "metadata": {}
        }
      ]
    },
    {
      "cell_type": "code",
      "source": [
        "class LinearRegressionModelV1(nn.Module):\n",
        "  def __init__(self):\n",
        "    super().__init__()\n",
        "    self.weights = nn.Parameter(torch.randn(1,dtype=torch.float32, requires_grad=True)) # Changed nn.parameter to nn.Parameter\n",
        "    self.bias = nn.Parameter(torch.randn(1,dtype=torch.float32, requires_grad=True)) # Changed nn.parameter to nn.Parameter\n",
        "\n",
        "    #Logic on how the data moves forward:\n",
        "  def forward(self,x:torch.Tensor) -> torch.Tensor:\n",
        "    return self.weights * x + self.bias"
      ],
      "metadata": {
        "id": "ysQzSDlXjHlm"
      },
      "execution_count": null,
      "outputs": []
    },
    {
      "cell_type": "code",
      "source": [
        "torch.manual_seed(42)\n",
        "model_0 = LinearRegressionModelV1()\n",
        "list(model_0.parameters())"
      ],
      "metadata": {
        "colab": {
          "base_uri": "https://localhost:8080/"
        },
        "id": "qNRyqwCkjyU0",
        "outputId": "e7a0e3b3-d179-4451-e7b3-0e3005a303c0"
      },
      "execution_count": null,
      "outputs": [
        {
          "output_type": "execute_result",
          "data": {
            "text/plain": [
              "[Parameter containing:\n",
              " tensor([0.3367], requires_grad=True),\n",
              " Parameter containing:\n",
              " tensor([0.1288], requires_grad=True)]"
            ]
          },
          "metadata": {},
          "execution_count": 66
        }
      ]
    },
    {
      "cell_type": "code",
      "source": [
        "model_0.state_dict()"
      ],
      "metadata": {
        "colab": {
          "base_uri": "https://localhost:8080/"
        },
        "id": "BPGv-asrkaNh",
        "outputId": "b436efd4-f4ae-4d3f-804f-5f86b4786951"
      },
      "execution_count": null,
      "outputs": [
        {
          "output_type": "execute_result",
          "data": {
            "text/plain": [
              "OrderedDict([('weights', tensor([0.3367])), ('bias', tensor([0.1288]))])"
            ]
          },
          "metadata": {},
          "execution_count": 67
        }
      ]
    },
    {
      "cell_type": "code",
      "source": [
        "with torch.inference_mode():\n",
        "  y_preds = model_0(X_test)\n",
        "\n",
        "plot_predictions(predictions=y_preds)"
      ],
      "metadata": {
        "colab": {
          "base_uri": "https://localhost:8080/",
          "height": 599
        },
        "id": "ooCeS8NGkebf",
        "outputId": "05a43812-7098-44a2-922c-9b1ccc5e3b2c"
      },
      "execution_count": null,
      "outputs": [
        {
          "output_type": "display_data",
          "data": {
            "text/plain": [
              "<Figure size 1000x700 with 1 Axes>"
            ],
            "image/png": "[encoded data removed]"
          },
          "metadata": {}
        }
      ]
    },
    {
      "cell_type": "markdown",
      "source": [
        "Loss Funtions:\n",
        "\n",
        "Difference between predicted and ground truth and update our paramters:"
      ],
      "metadata": {
        "id": "Nzt7_QBekrDj"
      }
    },
    {
      "cell_type": "code",
      "source": [
        "loss_fn = nn.L1Loss()\n",
        "\n",
        "optimizer = torch.optim.SGD(params=model_0.parameters(),lr=0.01)"
      ],
      "metadata": {
        "id": "JP7gDg-7knpO"
      },
      "execution_count": null,
      "outputs": []
    },
    {
      "cell_type": "markdown",
      "source": [
        "A learning rate of 0.01 means that for each step in the optimization process, the parameters are adjusted by 1% of the computed gradient.\n",
        "If the learning rate is too large, the optimizer may overshoot the minimum of the loss function. If it's too small, convergence may be slow."
      ],
      "metadata": {
        "id": "KlfTsqy3lvOr"
      }
    },
    {
      "cell_type": "code",
      "source": [
        "torch.manual_seed(42)\n",
        "\n",
        "# This line sets the random seed to ensure reproducibility.\n",
        "# By fixing the seed, the random number generators in PyTorch\n",
        "# will produce the same sequence of random numbers every time the code is run,\n",
        "# leading to consistent results (e.g., same weight initialization and data shuffling).\n",
        "\n",
        "\n",
        "epochs = 200\n",
        "\n",
        "epoch_count = []\n",
        "test_loss_values = []\n",
        "train_loss_values = []\n",
        "\n",
        "for epoch in range(epochs):\n",
        "  model_0.train()\n",
        "\n",
        "  y_pred = model_0(X_train)\n",
        "\n",
        "  loss = loss_fn(y_pred,y_train)\n",
        "\n",
        "  optimizer.zero_grad()\n",
        "\n",
        "  #.      The function optimizer.zero_grad() is used in PyTorch to reset the gradients\n",
        "  #.      of the model’s parameters to zero before the next iteration of the optimization loop.\n",
        "\n",
        "  loss.backward() #back propogation\n",
        "\n",
        "  optimizer.step()\n",
        "\n",
        "  model_0.eval()\n",
        "\n",
        "  with torch.inference_mode():\n",
        "    test_pred = model_0(X_test)\n",
        "    test_loss = loss_fn(test_pred,y_test)\n",
        "\n",
        "  print(f\"Epoch: {epoch} | MAE Train Loss: {loss} | MAE Test Loss {test_loss}\")\n",
        "\n",
        "  epoch_count.append(epoch)\n",
        "  test_loss_values.append(test_loss.detach().numpy())\n",
        "  train_loss_values.append(loss.detach().numpy())"
      ],
      "metadata": {
        "colab": {
          "base_uri": "https://localhost:8080/"
        },
        "id": "6591gja5lNN4",
        "outputId": "095dc358-ad8f-4cf3-98db-eb6a7ec03a4f"
      },
      "execution_count": null,
      "outputs": [
        {
          "output_type": "stream",
          "name": "stdout",
          "text": [
            "Epoch: 0 | MAE Train Loss: 0.0025885067880153656 | MAE Test Loss 0.008447891101241112\n",
            "Epoch: 1 | MAE Train Loss: 0.008932482451200485 | MAE Test Loss 0.005023092031478882\n",
            "Epoch: 2 | MAE Train Loss: 0.0025885067880153656 | MAE Test Loss 0.008447891101241112\n",
            "Epoch: 3 | MAE Train Loss: 0.008932482451200485 | MAE Test Loss 0.005023092031478882\n",
            "Epoch: 4 | MAE Train Loss: 0.0025885067880153656 | MAE Test Loss 0.008447891101241112\n",
            "Epoch: 5 | MAE Train Loss: 0.008932482451200485 | MAE Test Loss 0.005023092031478882\n",
            "Epoch: 6 | MAE Train Loss: 0.0025885067880153656 | MAE Test Loss 0.008447891101241112\n",
            "Epoch: 7 | MAE Train Loss: 0.008932482451200485 | MAE Test Loss 0.005023092031478882\n",
            "Epoch: 8 | MAE Train Loss: 0.0025885067880153656 | MAE Test Loss 0.008447891101241112\n",
            "Epoch: 9 | MAE Train Loss: 0.008932482451200485 | MAE Test Loss 0.005023092031478882\n",
            "Epoch: 10 | MAE Train Loss: 0.0025885067880153656 | MAE Test Loss 0.008447891101241112\n",
            "Epoch: 11 | MAE Train Loss: 0.008932482451200485 | MAE Test Loss 0.005023092031478882\n",
            "Epoch: 12 | MAE Train Loss: 0.0025885067880153656 | MAE Test Loss 0.008447891101241112\n",
            "Epoch: 13 | MAE Train Loss: 0.008932482451200485 | MAE Test Loss 0.005023092031478882\n",
            "Epoch: 14 | MAE Train Loss: 0.0025885067880153656 | MAE Test Loss 0.008447891101241112\n",
            "Epoch: 15 | MAE Train Loss: 0.008932482451200485 | MAE Test Loss 0.005023092031478882\n",
            "Epoch: 16 | MAE Train Loss: 0.0025885067880153656 | MAE Test Loss 0.008447891101241112\n",
            "Epoch: 17 | MAE Train Loss: 0.008932482451200485 | MAE Test Loss 0.005023092031478882\n",
            "Epoch: 18 | MAE Train Loss: 0.0025885067880153656 | MAE Test Loss 0.008447891101241112\n",
            "Epoch: 19 | MAE Train Loss: 0.008932482451200485 | MAE Test Loss 0.005023092031478882\n",
            "Epoch: 20 | MAE Train Loss: 0.0025885067880153656 | MAE Test Loss 0.008447891101241112\n",
            "Epoch: 21 | MAE Train Loss: 0.008932482451200485 | MAE Test Loss 0.005023092031478882\n",
            "Epoch: 22 | MAE Train Loss: 0.0025885067880153656 | MAE Test Loss 0.008447891101241112\n",
            "Epoch: 23 | MAE Train Loss: 0.008932482451200485 | MAE Test Loss 0.005023092031478882\n",
            "Epoch: 24 | MAE Train Loss: 0.0025885067880153656 | MAE Test Loss 0.008447891101241112\n",
            "Epoch: 25 | MAE Train Loss: 0.008932482451200485 | MAE Test Loss 0.005023092031478882\n",
            "Epoch: 26 | MAE Train Loss: 0.0025885067880153656 | MAE Test Loss 0.008447891101241112\n",
            "Epoch: 27 | MAE Train Loss: 0.008932482451200485 | MAE Test Loss 0.005023092031478882\n",
            "Epoch: 28 | MAE Train Loss: 0.0025885067880153656 | MAE Test Loss 0.008447891101241112\n",
            "Epoch: 29 | MAE Train Loss: 0.008932482451200485 | MAE Test Loss 0.005023092031478882\n",
            "Epoch: 30 | MAE Train Loss: 0.0025885067880153656 | MAE Test Loss 0.008447891101241112\n",
            "Epoch: 31 | MAE Train Loss: 0.008932482451200485 | MAE Test Loss 0.005023092031478882\n",
            "Epoch: 32 | MAE Train Loss: 0.0025885067880153656 | MAE Test Loss 0.008447891101241112\n",
            "Epoch: 33 | MAE Train Loss: 0.008932482451200485 | MAE Test Loss 0.005023092031478882\n",
            "Epoch: 34 | MAE Train Loss: 0.0025885067880153656 | MAE Test Loss 0.008447891101241112\n",
            "Epoch: 35 | MAE Train Loss: 0.008932482451200485 | MAE Test Loss 0.005023092031478882\n",
            "Epoch: 36 | MAE Train Loss: 0.0025885067880153656 | MAE Test Loss 0.008447891101241112\n",
            "Epoch: 37 | MAE Train Loss: 0.008932482451200485 | MAE Test Loss 0.005023092031478882\n",
            "Epoch: 38 | MAE Train Loss: 0.0025885067880153656 | MAE Test Loss 0.008447891101241112\n",
            "Epoch: 39 | MAE Train Loss: 0.008932482451200485 | MAE Test Loss 0.005023092031478882\n",
            "Epoch: 40 | MAE Train Loss: 0.0025885067880153656 | MAE Test Loss 0.008447891101241112\n",
            "Epoch: 41 | MAE Train Loss: 0.008932482451200485 | MAE Test Loss 0.005023092031478882\n",
            "Epoch: 42 | MAE Train Loss: 0.0025885067880153656 | MAE Test Loss 0.008447891101241112\n",
            "Epoch: 43 | MAE Train Loss: 0.008932482451200485 | MAE Test Loss 0.005023092031478882\n",
            "Epoch: 44 | MAE Train Loss: 0.0025885067880153656 | MAE Test Loss 0.008447891101241112\n",
            "Epoch: 45 | MAE Train Loss: 0.008932482451200485 | MAE Test Loss 0.005023092031478882\n",
            "Epoch: 46 | MAE Train Loss: 0.0025885067880153656 | MAE Test Loss 0.008447891101241112\n",
            "Epoch: 47 | MAE Train Loss: 0.008932482451200485 | MAE Test Loss 0.005023092031478882\n",
            "Epoch: 48 | MAE Train Loss: 0.0025885067880153656 | MAE Test Loss 0.008447891101241112\n",
            "Epoch: 49 | MAE Train Loss: 0.008932482451200485 | MAE Test Loss 0.005023092031478882\n",
            "Epoch: 50 | MAE Train Loss: 0.0025885067880153656 | MAE Test Loss 0.008447891101241112\n",
            "Epoch: 51 | MAE Train Loss: 0.008932482451200485 | MAE Test Loss 0.005023092031478882\n",
            "Epoch: 52 | MAE Train Loss: 0.0025885067880153656 | MAE Test Loss 0.008447891101241112\n",
            "Epoch: 53 | MAE Train Loss: 0.008932482451200485 | MAE Test Loss 0.005023092031478882\n",
            "Epoch: 54 | MAE Train Loss: 0.0025885067880153656 | MAE Test Loss 0.008447891101241112\n",
            "Epoch: 55 | MAE Train Loss: 0.008932482451200485 | MAE Test Loss 0.005023092031478882\n",
            "Epoch: 56 | MAE Train Loss: 0.0025885067880153656 | MAE Test Loss 0.008447891101241112\n",
            "Epoch: 57 | MAE Train Loss: 0.008932482451200485 | MAE Test Loss 0.005023092031478882\n",
            "Epoch: 58 | MAE Train Loss: 0.0025885067880153656 | MAE Test Loss 0.008447891101241112\n",
            "Epoch: 59 | MAE Train Loss: 0.008932482451200485 | MAE Test Loss 0.005023092031478882\n",
            "Epoch: 60 | MAE Train Loss: 0.0025885067880153656 | MAE Test Loss 0.008447891101241112\n",
            "Epoch: 61 | MAE Train Loss: 0.008932482451200485 | MAE Test Loss 0.005023092031478882\n",
            "Epoch: 62 | MAE Train Loss: 0.0025885067880153656 | MAE Test Loss 0.008447891101241112\n",
            "Epoch: 63 | MAE Train Loss: 0.008932482451200485 | MAE Test Loss 0.005023092031478882\n",
            "Epoch: 64 | MAE Train Loss: 0.0025885067880153656 | MAE Test Loss 0.008447891101241112\n",
            "Epoch: 65 | MAE Train Loss: 0.008932482451200485 | MAE Test Loss 0.005023092031478882\n",
            "Epoch: 66 | MAE Train Loss: 0.0025885067880153656 | MAE Test Loss 0.008447891101241112\n",
            "Epoch: 67 | MAE Train Loss: 0.008932482451200485 | MAE Test Loss 0.005023092031478882\n",
            "Epoch: 68 | MAE Train Loss: 0.0025885067880153656 | MAE Test Loss 0.008447891101241112\n",
            "Epoch: 69 | MAE Train Loss: 0.008932482451200485 | MAE Test Loss 0.005023092031478882\n",
            "Epoch: 70 | MAE Train Loss: 0.0025885067880153656 | MAE Test Loss 0.008447891101241112\n",
            "Epoch: 71 | MAE Train Loss: 0.008932482451200485 | MAE Test Loss 0.005023092031478882\n",
            "Epoch: 72 | MAE Train Loss: 0.0025885067880153656 | MAE Test Loss 0.008447891101241112\n",
            "Epoch: 73 | MAE Train Loss: 0.008932482451200485 | MAE Test Loss 0.005023092031478882\n",
            "Epoch: 74 | MAE Train Loss: 0.0025885067880153656 | MAE Test Loss 0.008447891101241112\n",
            "Epoch: 75 | MAE Train Loss: 0.008932482451200485 | MAE Test Loss 0.005023092031478882\n",
            "Epoch: 76 | MAE Train Loss: 0.0025885067880153656 | MAE Test Loss 0.008447891101241112\n",
            "Epoch: 77 | MAE Train Loss: 0.008932482451200485 | MAE Test Loss 0.005023092031478882\n",
            "Epoch: 78 | MAE Train Loss: 0.0025885067880153656 | MAE Test Loss 0.008447891101241112\n",
            "Epoch: 79 | MAE Train Loss: 0.008932482451200485 | MAE Test Loss 0.005023092031478882\n",
            "Epoch: 80 | MAE Train Loss: 0.0025885067880153656 | MAE Test Loss 0.008447891101241112\n",
            "Epoch: 81 | MAE Train Loss: 0.008932482451200485 | MAE Test Loss 0.005023092031478882\n",
            "Epoch: 82 | MAE Train Loss: 0.0025885067880153656 | MAE Test Loss 0.008447891101241112\n",
            "Epoch: 83 | MAE Train Loss: 0.008932482451200485 | MAE Test Loss 0.005023092031478882\n",
            "Epoch: 84 | MAE Train Loss: 0.0025885067880153656 | MAE Test Loss 0.008447891101241112\n",
            "Epoch: 85 | MAE Train Loss: 0.008932482451200485 | MAE Test Loss 0.005023092031478882\n",
            "Epoch: 86 | MAE Train Loss: 0.0025885067880153656 | MAE Test Loss 0.008447891101241112\n",
            "Epoch: 87 | MAE Train Loss: 0.008932482451200485 | MAE Test Loss 0.005023092031478882\n",
            "Epoch: 88 | MAE Train Loss: 0.0025885067880153656 | MAE Test Loss 0.008447891101241112\n",
            "Epoch: 89 | MAE Train Loss: 0.008932482451200485 | MAE Test Loss 0.005023092031478882\n",
            "Epoch: 90 | MAE Train Loss: 0.0025885067880153656 | MAE Test Loss 0.008447891101241112\n",
            "Epoch: 91 | MAE Train Loss: 0.008932482451200485 | MAE Test Loss 0.005023092031478882\n",
            "Epoch: 92 | MAE Train Loss: 0.0025885067880153656 | MAE Test Loss 0.008447891101241112\n",
            "Epoch: 93 | MAE Train Loss: 0.008932482451200485 | MAE Test Loss 0.005023092031478882\n",
            "Epoch: 94 | MAE Train Loss: 0.0025885067880153656 | MAE Test Loss 0.008447891101241112\n",
            "Epoch: 95 | MAE Train Loss: 0.008932482451200485 | MAE Test Loss 0.005023092031478882\n",
            "Epoch: 96 | MAE Train Loss: 0.0025885067880153656 | MAE Test Loss 0.008447891101241112\n",
            "Epoch: 97 | MAE Train Loss: 0.008932482451200485 | MAE Test Loss 0.005023092031478882\n",
            "Epoch: 98 | MAE Train Loss: 0.0025885067880153656 | MAE Test Loss 0.008447891101241112\n",
            "Epoch: 99 | MAE Train Loss: 0.008932482451200485 | MAE Test Loss 0.005023092031478882\n",
            "Epoch: 100 | MAE Train Loss: 0.0025885067880153656 | MAE Test Loss 0.008447891101241112\n",
            "Epoch: 101 | MAE Train Loss: 0.008932482451200485 | MAE Test Loss 0.005023092031478882\n",
            "Epoch: 102 | MAE Train Loss: 0.0025885067880153656 | MAE Test Loss 0.008447891101241112\n",
            "Epoch: 103 | MAE Train Loss: 0.008932482451200485 | MAE Test Loss 0.005023092031478882\n",
            "Epoch: 104 | MAE Train Loss: 0.0025885067880153656 | MAE Test Loss 0.008447891101241112\n",
            "Epoch: 105 | MAE Train Loss: 0.008932482451200485 | MAE Test Loss 0.005023092031478882\n",
            "Epoch: 106 | MAE Train Loss: 0.0025885067880153656 | MAE Test Loss 0.008447891101241112\n",
            "Epoch: 107 | MAE Train Loss: 0.008932482451200485 | MAE Test Loss 0.005023092031478882\n",
            "Epoch: 108 | MAE Train Loss: 0.0025885067880153656 | MAE Test Loss 0.008447891101241112\n",
            "Epoch: 109 | MAE Train Loss: 0.008932482451200485 | MAE Test Loss 0.005023092031478882\n",
            "Epoch: 110 | MAE Train Loss: 0.0025885067880153656 | MAE Test Loss 0.008447891101241112\n",
            "Epoch: 111 | MAE Train Loss: 0.008932482451200485 | MAE Test Loss 0.005023092031478882\n",
            "Epoch: 112 | MAE Train Loss: 0.0025885067880153656 | MAE Test Loss 0.008447891101241112\n",
            "Epoch: 113 | MAE Train Loss: 0.008932482451200485 | MAE Test Loss 0.005023092031478882\n",
            "Epoch: 114 | MAE Train Loss: 0.0025885067880153656 | MAE Test Loss 0.008447891101241112\n",
            "Epoch: 115 | MAE Train Loss: 0.008932482451200485 | MAE Test Loss 0.005023092031478882\n",
            "Epoch: 116 | MAE Train Loss: 0.0025885067880153656 | MAE Test Loss 0.008447891101241112\n",
            "Epoch: 117 | MAE Train Loss: 0.008932482451200485 | MAE Test Loss 0.005023092031478882\n",
            "Epoch: 118 | MAE Train Loss: 0.0025885067880153656 | MAE Test Loss 0.008447891101241112\n",
            "Epoch: 119 | MAE Train Loss: 0.008932482451200485 | MAE Test Loss 0.005023092031478882\n",
            "Epoch: 120 | MAE Train Loss: 0.0025885067880153656 | MAE Test Loss 0.008447891101241112\n",
            "Epoch: 121 | MAE Train Loss: 0.008932482451200485 | MAE Test Loss 0.005023092031478882\n",
            "Epoch: 122 | MAE Train Loss: 0.0025885067880153656 | MAE Test Loss 0.008447891101241112\n",
            "Epoch: 123 | MAE Train Loss: 0.008932482451200485 | MAE Test Loss 0.005023092031478882\n",
            "Epoch: 124 | MAE Train Loss: 0.0025885067880153656 | MAE Test Loss 0.008447891101241112\n",
            "Epoch: 125 | MAE Train Loss: 0.008932482451200485 | MAE Test Loss 0.005023092031478882\n",
            "Epoch: 126 | MAE Train Loss: 0.0025885067880153656 | MAE Test Loss 0.008447891101241112\n",
            "Epoch: 127 | MAE Train Loss: 0.008932482451200485 | MAE Test Loss 0.005023092031478882\n",
            "Epoch: 128 | MAE Train Loss: 0.0025885067880153656 | MAE Test Loss 0.008447891101241112\n",
            "Epoch: 129 | MAE Train Loss: 0.008932482451200485 | MAE Test Loss 0.005023092031478882\n",
            "Epoch: 130 | MAE Train Loss: 0.0025885067880153656 | MAE Test Loss 0.008447891101241112\n",
            "Epoch: 131 | MAE Train Loss: 0.008932482451200485 | MAE Test Loss 0.005023092031478882\n",
            "Epoch: 132 | MAE Train Loss: 0.0025885067880153656 | MAE Test Loss 0.008447891101241112\n",
            "Epoch: 133 | MAE Train Loss: 0.008932482451200485 | MAE Test Loss 0.005023092031478882\n",
            "Epoch: 134 | MAE Train Loss: 0.0025885067880153656 | MAE Test Loss 0.008447891101241112\n",
            "Epoch: 135 | MAE Train Loss: 0.008932482451200485 | MAE Test Loss 0.005023092031478882\n",
            "Epoch: 136 | MAE Train Loss: 0.0025885067880153656 | MAE Test Loss 0.008447891101241112\n",
            "Epoch: 137 | MAE Train Loss: 0.008932482451200485 | MAE Test Loss 0.005023092031478882\n",
            "Epoch: 138 | MAE Train Loss: 0.0025885067880153656 | MAE Test Loss 0.008447891101241112\n",
            "Epoch: 139 | MAE Train Loss: 0.008932482451200485 | MAE Test Loss 0.005023092031478882\n",
            "Epoch: 140 | MAE Train Loss: 0.0025885067880153656 | MAE Test Loss 0.008447891101241112\n",
            "Epoch: 141 | MAE Train Loss: 0.008932482451200485 | MAE Test Loss 0.005023092031478882\n",
            "Epoch: 142 | MAE Train Loss: 0.0025885067880153656 | MAE Test Loss 0.008447891101241112\n",
            "Epoch: 143 | MAE Train Loss: 0.008932482451200485 | MAE Test Loss 0.005023092031478882\n",
            "Epoch: 144 | MAE Train Loss: 0.0025885067880153656 | MAE Test Loss 0.008447891101241112\n",
            "Epoch: 145 | MAE Train Loss: 0.008932482451200485 | MAE Test Loss 0.005023092031478882\n",
            "Epoch: 146 | MAE Train Loss: 0.0025885067880153656 | MAE Test Loss 0.008447891101241112\n",
            "Epoch: 147 | MAE Train Loss: 0.008932482451200485 | MAE Test Loss 0.005023092031478882\n",
            "Epoch: 148 | MAE Train Loss: 0.0025885067880153656 | MAE Test Loss 0.008447891101241112\n",
            "Epoch: 149 | MAE Train Loss: 0.008932482451200485 | MAE Test Loss 0.005023092031478882\n",
            "Epoch: 150 | MAE Train Loss: 0.0025885067880153656 | MAE Test Loss 0.008447891101241112\n",
            "Epoch: 151 | MAE Train Loss: 0.008932482451200485 | MAE Test Loss 0.005023092031478882\n",
            "Epoch: 152 | MAE Train Loss: 0.0025885067880153656 | MAE Test Loss 0.008447891101241112\n",
            "Epoch: 153 | MAE Train Loss: 0.008932482451200485 | MAE Test Loss 0.005023092031478882\n",
            "Epoch: 154 | MAE Train Loss: 0.0025885067880153656 | MAE Test Loss 0.008447891101241112\n",
            "Epoch: 155 | MAE Train Loss: 0.008932482451200485 | MAE Test Loss 0.005023092031478882\n",
            "Epoch: 156 | MAE Train Loss: 0.0025885067880153656 | MAE Test Loss 0.008447891101241112\n",
            "Epoch: 157 | MAE Train Loss: 0.008932482451200485 | MAE Test Loss 0.005023092031478882\n",
            "Epoch: 158 | MAE Train Loss: 0.0025885067880153656 | MAE Test Loss 0.008447891101241112\n",
            "Epoch: 159 | MAE Train Loss: 0.008932482451200485 | MAE Test Loss 0.005023092031478882\n",
            "Epoch: 160 | MAE Train Loss: 0.0025885067880153656 | MAE Test Loss 0.008447891101241112\n",
            "Epoch: 161 | MAE Train Loss: 0.008932482451200485 | MAE Test Loss 0.005023092031478882\n",
            "Epoch: 162 | MAE Train Loss: 0.0025885067880153656 | MAE Test Loss 0.008447891101241112\n",
            "Epoch: 163 | MAE Train Loss: 0.008932482451200485 | MAE Test Loss 0.005023092031478882\n",
            "Epoch: 164 | MAE Train Loss: 0.0025885067880153656 | MAE Test Loss 0.008447891101241112\n",
            "Epoch: 165 | MAE Train Loss: 0.008932482451200485 | MAE Test Loss 0.005023092031478882\n",
            "Epoch: 166 | MAE Train Loss: 0.0025885067880153656 | MAE Test Loss 0.008447891101241112\n",
            "Epoch: 167 | MAE Train Loss: 0.008932482451200485 | MAE Test Loss 0.005023092031478882\n",
            "Epoch: 168 | MAE Train Loss: 0.0025885067880153656 | MAE Test Loss 0.008447891101241112\n",
            "Epoch: 169 | MAE Train Loss: 0.008932482451200485 | MAE Test Loss 0.005023092031478882\n",
            "Epoch: 170 | MAE Train Loss: 0.0025885067880153656 | MAE Test Loss 0.008447891101241112\n",
            "Epoch: 171 | MAE Train Loss: 0.008932482451200485 | MAE Test Loss 0.005023092031478882\n",
            "Epoch: 172 | MAE Train Loss: 0.0025885067880153656 | MAE Test Loss 0.008447891101241112\n",
            "Epoch: 173 | MAE Train Loss: 0.008932482451200485 | MAE Test Loss 0.005023092031478882\n",
            "Epoch: 174 | MAE Train Loss: 0.0025885067880153656 | MAE Test Loss 0.008447891101241112\n",
            "Epoch: 175 | MAE Train Loss: 0.008932482451200485 | MAE Test Loss 0.005023092031478882\n",
            "Epoch: 176 | MAE Train Loss: 0.0025885067880153656 | MAE Test Loss 0.008447891101241112\n",
            "Epoch: 177 | MAE Train Loss: 0.008932482451200485 | MAE Test Loss 0.005023092031478882\n",
            "Epoch: 178 | MAE Train Loss: 0.0025885067880153656 | MAE Test Loss 0.008447891101241112\n",
            "Epoch: 179 | MAE Train Loss: 0.008932482451200485 | MAE Test Loss 0.005023092031478882\n",
            "Epoch: 180 | MAE Train Loss: 0.0025885067880153656 | MAE Test Loss 0.008447891101241112\n",
            "Epoch: 181 | MAE Train Loss: 0.008932482451200485 | MAE Test Loss 0.005023092031478882\n",
            "Epoch: 182 | MAE Train Loss: 0.0025885067880153656 | MAE Test Loss 0.008447891101241112\n",
            "Epoch: 183 | MAE Train Loss: 0.008932482451200485 | MAE Test Loss 0.005023092031478882\n",
            "Epoch: 184 | MAE Train Loss: 0.0025885067880153656 | MAE Test Loss 0.008447891101241112\n",
            "Epoch: 185 | MAE Train Loss: 0.008932482451200485 | MAE Test Loss 0.005023092031478882\n",
            "Epoch: 186 | MAE Train Loss: 0.0025885067880153656 | MAE Test Loss 0.008447891101241112\n",
            "Epoch: 187 | MAE Train Loss: 0.008932482451200485 | MAE Test Loss 0.005023092031478882\n",
            "Epoch: 188 | MAE Train Loss: 0.0025885067880153656 | MAE Test Loss 0.008447891101241112\n",
            "Epoch: 189 | MAE Train Loss: 0.008932482451200485 | MAE Test Loss 0.005023092031478882\n",
            "Epoch: 190 | MAE Train Loss: 0.0025885067880153656 | MAE Test Loss 0.008447891101241112\n",
            "Epoch: 191 | MAE Train Loss: 0.008932482451200485 | MAE Test Loss 0.005023092031478882\n",
            "Epoch: 192 | MAE Train Loss: 0.0025885067880153656 | MAE Test Loss 0.008447891101241112\n",
            "Epoch: 193 | MAE Train Loss: 0.008932482451200485 | MAE Test Loss 0.005023092031478882\n",
            "Epoch: 194 | MAE Train Loss: 0.0025885067880153656 | MAE Test Loss 0.008447891101241112\n",
            "Epoch: 195 | MAE Train Loss: 0.008932482451200485 | MAE Test Loss 0.005023092031478882\n",
            "Epoch: 196 | MAE Train Loss: 0.0025885067880153656 | MAE Test Loss 0.008447891101241112\n",
            "Epoch: 197 | MAE Train Loss: 0.008932482451200485 | MAE Test Loss 0.005023092031478882\n",
            "Epoch: 198 | MAE Train Loss: 0.0025885067880153656 | MAE Test Loss 0.008447891101241112\n",
            "Epoch: 199 | MAE Train Loss: 0.008932482451200485 | MAE Test Loss 0.005023092031478882\n"
          ]
        }
      ]
    },
    {
      "cell_type": "code",
      "source": [
        "model_0.state_dict()"
      ],
      "metadata": {
        "colab": {
          "base_uri": "https://localhost:8080/"
        },
        "id": "YUUylMehmAQm",
        "outputId": "9fdc1574-da35-47a2-ef45-209d676bea98"
      },
      "execution_count": null,
      "outputs": [
        {
          "output_type": "execute_result",
          "data": {
            "text/plain": [
              "OrderedDict([('weights', tensor([0.6951])), ('bias', tensor([0.2993]))])"
            ]
          },
          "metadata": {},
          "execution_count": 84
        }
      ]
    },
    {
      "cell_type": "code",
      "source": [
        "with torch.inference_mode():\n",
        "  y_preds = model_0(X_test)\n",
        "\n",
        "plot_predictions(predictions=y_preds)"
      ],
      "metadata": {
        "colab": {
          "base_uri": "https://localhost:8080/",
          "height": 599
        },
        "id": "jIuBQljSm13z",
        "outputId": "e685443c-21f8-463b-8d6a-6eec42212f79"
      },
      "execution_count": null,
      "outputs": [
        {
          "output_type": "display_data",
          "data": {
            "text/plain": [
              "<Figure size 1000x700 with 1 Axes>"
            ],
            "image/png": "[encoded data removed]"
          },
          "metadata": {}
        }
      ]
    },
    {
      "cell_type": "code",
      "source": [
        "plt.plot(epoch_count,test_loss_values,label=\"Test Loss\")\n",
        "plt.plot(epoch_count,train_loss_values,label=\"Train Loss\")\n",
        "plt.title(\"Training and Test Loss Curves\")\n",
        "plt.ylabel(\"Loss\")\n",
        "plt.xlabel(\"Epochs\")\n",
        "plt.legend()"
      ],
      "metadata": {
        "colab": {
          "base_uri": "https://localhost:8080/",
          "height": 489
        },
        "id": "mJMKqvrMnMDX",
        "outputId": "ff105c3c-0500-4c11-f580-378fa7118061"
      },
      "execution_count": null,
      "outputs": [
        {
          "output_type": "execute_result",
          "data": {
            "text/plain": [
              "<matplotlib.legend.Legend at 0x7ce7d6a0ec80>"
            ]
          },
          "metadata": {},
          "execution_count": 86
        },
        {
          "output_type": "display_data",
          "data": {
            "text/plain": [
              "<Figure size 640x480 with 1 Axes>"
            ],
            "image/png": "[encoded data removed]"
          },
          "metadata": {}
        }
      ]
    }
  ]
}